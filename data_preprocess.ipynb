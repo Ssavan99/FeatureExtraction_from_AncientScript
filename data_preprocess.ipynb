{
 "cells": [
  {
   "cell_type": "code",
   "execution_count": null,
   "metadata": {},
   "outputs": [],
   "source": [
    "import os\n",
    "import numpy as np\n",
    "from PIL import Image\n",
    "import pandas as pd\n",
    "import matplotlib.pyplot as plt\n"
   ]
  },
  {
   "cell_type": "markdown",
   "metadata": {},
   "source": [
    "## Image and feature classification"
   ]
  },
  {
   "cell_type": "code",
   "execution_count": null,
   "metadata": {},
   "outputs": [],
   "source": [
    "# Path to the folder containing character folders\n",
    "dataset_path = \"data/\"\n",
    "\n",
    "# Load the CSV file\n",
    "feature_data = pd.read_csv('feature_list.csv')\n",
    "\n",
    "# Lists for storing image data, labels, paths, and character names\n",
    "images = []\n",
    "features_list = []\n",
    "image_paths = []\n",
    "character_names = []\n",
    "\n",
    "# Verify folders and map images to features\n",
    "for index, row in feature_data.iterrows():\n",
    "    character_name = row['character']\n",
    "    character_folder = os.path.join(dataset_path, character_name)\n",
    "    \n",
    "    if os.path.isdir(character_folder):\n",
    "        # List all images in the character folder\n",
    "        for image_file in os.listdir(character_folder):\n",
    "            if image_file.lower().endswith(('.png', '.jpg', '.jpeg', '.bmp', '.gif', '.tiff')):\n",
    "                image_path = os.path.join(character_folder, image_file)\n",
    "                image_paths.append(image_path)  # Save the path\n",
    "                character_names.append(character_name)  # Save the character name\n",
    "                # Load the image\n",
    "                with Image.open(image_path) as img:\n",
    "                    img = img.convert('RGB')  # Convert to RGB\n",
    "                    img = img.resize((32, 32))  # Resize like MNIST images\n",
    "                    img_array = np.array(img)\n",
    "                    images.append(img_array)\n",
    "                    features_list.append(row.drop('character').values)\n",
    "        print(f\"Done '{character_name}'\")\n",
    "    else:\n",
    "        print(f\"Warning: No folder found for character '{character_name}'\")\n",
    "\n",
    "# Convert lists to numpy arrays\n",
    "images_np = np.array(images).astype(np.float32) / 255.0\n",
    "features_np = np.array(features_list).astype(np.float32)\n",
    "image_paths_np = np.array(image_paths)\n",
    "character_names_np = np.array(character_names)\n",
    "\n",
    "np.savez_compressed('character_images_dataset.npz', images=images_np, features=features_np, paths=image_paths_np, names=character_names_np)\n",
    "\n",
    "print(\"Dataset creation complete. Images and features have been saved.\")\n"
   ]
  },
  {
   "cell_type": "code",
   "execution_count": null,
   "metadata": {},
   "outputs": [],
   "source": [
    "# Load the data\n",
    "data = np.load('character_images_dataset.npz', allow_pickle=True)\n",
    "images = data['images']\n",
    "features = data['features']\n",
    "names = data['names']"
   ]
  },
  {
   "cell_type": "code",
   "execution_count": null,
   "metadata": {},
   "outputs": [],
   "source": [
    "random_index = np.random.randint(0, len(images))\n",
    "plt.imshow(images[random_index])  # No need to reshape or use grayscale colormap\n",
    "plt.title(f'Features: {features[random_index]}   Name: {names[random_index]}')\n",
    "plt.axis('off')\n",
    "plt.show()\n",
    "\n",
    "# Check the distribution of each feature\n",
    "# feature_counts = np.sum(features, axis=0)\n",
    "# plt.bar(range(features.shape[1]), feature_counts)\n",
    "# plt.title('Feature Distribution across the Dataset')\n",
    "# plt.xlabel('Feature Index')\n",
    "# plt.ylabel('Frequency')\n",
    "# plt.show()\n",
    "\n",
    "\n",
    "# feature_counts = np.sum(features, axis=0)\n",
    "# plt.figure(figsize=(10, 4))\n",
    "# plt.bar(range(features.shape[1]), feature_counts)\n",
    "# plt.title('Feature Distribution across the Dataset')\n",
    "# plt.xlabel('Feature Index')\n",
    "# plt.ylabel('Frequency')\n",
    "# plt.show()\n",
    "\n",
    "# print(f'Total number of images: {len(images)}')\n",
    "\n"
   ]
  },
  {
   "cell_type": "markdown",
   "metadata": {},
   "source": [
    "## Image and label classification (map to label to features)"
   ]
  },
  {
   "cell_type": "code",
   "execution_count": null,
   "metadata": {},
   "outputs": [],
   "source": [
    "def load_images_and_labels(base_dir, image_size=(32, 32)):\n",
    "    images = []\n",
    "    labels = []\n",
    "    # image_paths = []\n",
    "    characters = os.listdir(base_dir)\n",
    "    for char in characters:\n",
    "        char_dir = os.path.join(base_dir, char)\n",
    "        for img_file in os.listdir(char_dir):\n",
    "            if img_file.lower().endswith(('.png', '.jpg', '.jpeg', '.bmp', '.gif', '.tiff')):\n",
    "                img_path = os.path.join(char_dir, img_file)\n",
    "                img = Image.open(img_path).convert('RGB')\n",
    "                img = img.resize(image_size)\n",
    "                img = np.array(img, dtype='float32') / 255.0  # Normalize pixel values\n",
    "                images.append(img)\n",
    "                labels.append(char)  # The folder name is the label\n",
    "                # image_paths.append(image_path)\n",
    "        print(f\"Done '{char}'\")\n",
    "\n",
    "    images = np.array(images)\n",
    "    labels = np.array(labels)\n",
    "    # image_paths = np.array(image_paths)\n",
    "    return images, labels\n",
    "\n",
    "def save_dataset_to_npz(base_dir, save_path, image_size=(32, 32)):\n",
    "    images, labels = load_images_and_labels(base_dir, image_size)\n",
    "    np.savez_compressed(save_path, images=images, labels=labels)\n",
    "\n",
    "# Example usage\n",
    "base_dir = \"data/\"\n",
    "save_path = \"images_label_dataset.npz\"\n",
    "save_dataset_to_npz(base_dir, save_path)\n",
    "\n"
   ]
  },
  {
   "cell_type": "code",
   "execution_count": null,
   "metadata": {},
   "outputs": [],
   "source": [
    "# Load the data\n",
    "data2 = np.load('images_label_dataset.npz', allow_pickle=True)\n",
    "images = data2['images']\n",
    "labels = data2['labels']"
   ]
  },
  {
   "cell_type": "code",
   "execution_count": null,
   "metadata": {},
   "outputs": [],
   "source": [
    "random_index = np.random.randint(0, len(images))\n",
    "plt.imshow(images[random_index])  # No need to reshape or use grayscale colormap\n",
    "plt.title(f'Name: {labels[random_index]}')\n",
    "plt.axis('off')\n",
    "plt.show()\n",
    "\n",
    "# Check the distribution of each feature\n",
    "# feature_counts = np.sum(features, axis=0)\n",
    "# plt.bar(range(features.shape[1]), feature_counts)\n",
    "# plt.title('Feature Distribution across the Dataset')\n",
    "# plt.xlabel('Feature Index')\n",
    "# plt.ylabel('Frequency')\n",
    "# plt.show()\n",
    "\n",
    "\n",
    "# label_counts = np.sum(labels, axis=0)\n",
    "# plt.figure(figsize=(10, 4))\n",
    "# plt.bar(range(labels.shape[1]), labels)\n",
    "# plt.title('Feature Distribution across the Dataset')\n",
    "# plt.xlabel('Feature Index')\n",
    "# plt.ylabel('Frequency')\n",
    "# plt.show()\n",
    "\n",
    "# print(f'Total number of images: {len(images)}')\n",
    "\n"
   ]
  }
 ],
 "metadata": {
  "kernelspec": {
   "display_name": "myenv",
   "language": "python",
   "name": "python3"
  },
  "language_info": {
   "codemirror_mode": {
    "name": "ipython",
    "version": 3
   },
   "file_extension": ".py",
   "mimetype": "text/x-python",
   "name": "python",
   "nbconvert_exporter": "python",
   "pygments_lexer": "ipython3",
   "version": "3.8.15"
  }
 },
 "nbformat": 4,
 "nbformat_minor": 2
}
